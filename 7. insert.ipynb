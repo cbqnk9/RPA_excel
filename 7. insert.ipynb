{
 "cells": [
  {
   "cell_type": "code",
   "execution_count": 18,
   "id": "73b818d4-7942-4e27-b639-c182501432b2",
   "metadata": {},
   "outputs": [],
   "source": [
    "from openpyxl import load_workbook\n",
    "wb = load_workbook(\"sample.xlsx\")\n",
    "ws = wb.active"
   ]
  },
  {
   "cell_type": "code",
   "execution_count": 7,
   "id": "451d0711-2d50-4ace-90fb-bde7f66e892a",
   "metadata": {},
   "outputs": [],
   "source": [
    "ws.insert_rows(8) #8번째에 행 추가\n",
    "ws.insert_rows(8,2) #8번째에 2행 추가"
   ]
  },
  {
   "cell_type": "code",
   "execution_count": 8,
   "id": "cb6431ad-8063-405f-8940-9a13b170e28a",
   "metadata": {
    "tags": []
   },
   "outputs": [],
   "source": [
    "wb.save(\"insert_rows.xlsx\")"
   ]
  },
  {
   "cell_type": "code",
   "execution_count": 16,
   "id": "91dce588-e5a6-4491-8a38-48ae8331cf3e",
   "metadata": {},
   "outputs": [],
   "source": [
    "ws.insert_cols(3) #3번째 열 추가 (C에 열추가)\n",
    "ws.insert_cols(3,2) #3번째에 2열 추가"
   ]
  },
  {
   "cell_type": "code",
   "execution_count": 17,
   "id": "0bbdc47c-bafa-44dc-bcfc-dd40c1f26194",
   "metadata": {},
   "outputs": [],
   "source": [
    "wb.save(\"insert_cols.xlsx\")"
   ]
  },
  {
   "cell_type": "code",
   "execution_count": null,
   "id": "9650e749-6bf6-405b-a379-828a9f6c4632",
   "metadata": {},
   "outputs": [],
   "source": []
  }
 ],
 "metadata": {
  "kernelspec": {
   "display_name": "Python 3 (ipykernel)",
   "language": "python",
   "name": "python3"
  },
  "language_info": {
   "codemirror_mode": {
    "name": "ipython",
    "version": 3
   },
   "file_extension": ".py",
   "mimetype": "text/x-python",
   "name": "python",
   "nbconvert_exporter": "python",
   "pygments_lexer": "ipython3",
   "version": "3.9.7"
  }
 },
 "nbformat": 4,
 "nbformat_minor": 5
}
