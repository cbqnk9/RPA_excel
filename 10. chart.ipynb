{
 "cells": [
  {
   "cell_type": "code",
   "execution_count": 35,
   "id": "3bc4b935-5c76-417c-99d9-8a752a1afe6d",
   "metadata": {},
   "outputs": [],
   "source": [
    "from openpyxl import load_workbook\n",
    "wb = load_workbook(\"sample.xlsx\")\n",
    "ws = wb.active"
   ]
  },
  {
   "cell_type": "code",
   "execution_count": 36,
   "id": "967e9560-525c-4dca-a302-3196a7f14cf3",
   "metadata": {},
   "outputs": [],
   "source": [
    "from openpyxl.chart import BarChart,LineChart,Reference #차트 사용하기위해 import"
   ]
  },
  {
   "cell_type": "markdown",
   "id": "2fe652ac-6006-4641-ad22-da1343fb5a24",
   "metadata": {},
   "source": [
    "#### 막대 그래프"
   ]
  },
  {
   "cell_type": "code",
   "execution_count": 6,
   "id": "3a81a112-acf1-493a-9bfd-6ee7a65329f2",
   "metadata": {},
   "outputs": [],
   "source": [
    "bar_value = Reference(ws, min_row = 2, max_row = 11, min_col = 2, max_col = 3)\n",
    "#차트에 들어갈 값 설정"
   ]
  },
  {
   "cell_type": "code",
   "execution_count": 7,
   "id": "2c4625f6-818e-49e4-941e-c386ff0b5f09",
   "metadata": {},
   "outputs": [],
   "source": [
    "bar_chart = BarChart()"
   ]
  },
  {
   "cell_type": "code",
   "execution_count": 8,
   "id": "7090453a-f948-45be-8a5d-9a971a4fead1",
   "metadata": {},
   "outputs": [],
   "source": [
    "bar_chart.add_data(bar_value)"
   ]
  },
  {
   "cell_type": "code",
   "execution_count": 9,
   "id": "066c9349-05f6-4a8e-b1bc-e58e215a7655",
   "metadata": {},
   "outputs": [],
   "source": [
    "ws.add_chart(bar_chart, \"E1\") #차트 넣을 위치 설정"
   ]
  },
  {
   "cell_type": "markdown",
   "id": "ad8689df-445a-41b8-94bc-66f605a245a9",
   "metadata": {},
   "source": [
    "#### 선(꺾은선 그래프)"
   ]
  },
  {
   "cell_type": "code",
   "execution_count": 37,
   "id": "7b2c28af-57e7-47ff-a974-c39d1d911900",
   "metadata": {},
   "outputs": [],
   "source": [
    "line_value = Reference(ws, min_row = 1, max_row = 11, min_col = 2, max_col = 3)"
   ]
  },
  {
   "cell_type": "code",
   "execution_count": 38,
   "id": "c7a78a55-5d9b-4163-9fd6-406e542b8615",
   "metadata": {},
   "outputs": [],
   "source": [
    "line_chart = LineChart()"
   ]
  },
  {
   "cell_type": "code",
   "execution_count": 39,
   "id": "cd7b127e-0c7e-4238-ae0f-1d0a0567a05c",
   "metadata": {},
   "outputs": [],
   "source": [
    "line_chart.add_data(line_value, titles_from_data=True) \n",
    "#titles_from_data = True  -> 계열 부분에 영어 수학이 들어감"
   ]
  },
  {
   "cell_type": "code",
   "execution_count": 40,
   "id": "8861a29b-3145-42c9-9362-4c9eaf0964bf",
   "metadata": {},
   "outputs": [],
   "source": [
    "line_chart.title = \"성적 그래프\"\n",
    "#표 이름 설정"
   ]
  },
  {
   "cell_type": "code",
   "execution_count": 41,
   "id": "11eba899-8862-4c62-8aaa-73019066b9ef",
   "metadata": {},
   "outputs": [],
   "source": [
    "line_chart.style = 20\n",
    "#미리 설정된 스타일 적용"
   ]
  },
  {
   "cell_type": "code",
   "execution_count": 42,
   "id": "f4e9571e-4625-4aa1-877e-307c47abf1c2",
   "metadata": {},
   "outputs": [],
   "source": [
    "line_chart.y_axis.title = \"점수\"\n",
    "line_chart.x_axis.title = \"번호\"\n",
    "#x,y 축의 이름 설정"
   ]
  },
  {
   "cell_type": "code",
   "execution_count": 43,
   "id": "9a70ae8d-ac4d-4736-bc88-a5a7972c742c",
   "metadata": {},
   "outputs": [],
   "source": [
    "ws.add_chart(line_chart,\"E1\")"
   ]
  },
  {
   "cell_type": "code",
   "execution_count": null,
   "id": "853b8019-544f-4a42-9ba5-6b96adf16bb2",
   "metadata": {},
   "outputs": [],
   "source": []
  },
  {
   "cell_type": "code",
   "execution_count": 44,
   "id": "272dfc6b-fd3d-49a3-a417-5fb505409740",
   "metadata": {},
   "outputs": [],
   "source": [
    "wb.save(\"chart.xlsx\")"
   ]
  },
  {
   "cell_type": "markdown",
   "id": "1dc42754-28df-4272-bf70-3b760ded9235",
   "metadata": {},
   "source": [
    "-https://openpyxl.readthedocs.io/en/stable/charts/introduction.html\n"
   ]
  },
  {
   "cell_type": "code",
   "execution_count": null,
   "id": "2eaf3b61-0f21-4848-831c-600c454bcbbe",
   "metadata": {},
   "outputs": [],
   "source": []
  }
 ],
 "metadata": {
  "kernelspec": {
   "display_name": "Python 3 (ipykernel)",
   "language": "python",
   "name": "python3"
  },
  "language_info": {
   "codemirror_mode": {
    "name": "ipython",
    "version": 3
   },
   "file_extension": ".py",
   "mimetype": "text/x-python",
   "name": "python",
   "nbconvert_exporter": "python",
   "pygments_lexer": "ipython3",
   "version": "3.9.7"
  }
 },
 "nbformat": 4,
 "nbformat_minor": 5
}
