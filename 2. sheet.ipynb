{
 "cells": [
  {
   "cell_type": "code",
   "execution_count": 15,
   "id": "af585ee8-42fb-452d-af73-9b7642ad32d2",
   "metadata": {},
   "outputs": [],
   "source": [
    "from openpyxl import Workbook"
   ]
  },
  {
   "cell_type": "code",
   "execution_count": 16,
   "id": "12d52548-90b0-4a0a-976f-d208f7e9dd91",
   "metadata": {},
   "outputs": [],
   "source": [
    "wb = Workbook()\n",
    "ws = wb.create_sheet() # 현재 활성화 된 xlsx에 새로운 sheet를 기본 이름으로 생성"
   ]
  },
  {
   "cell_type": "code",
   "execution_count": 17,
   "id": "a9cb41aa-34e3-4f85-a272-927b717bd63b",
   "metadata": {},
   "outputs": [],
   "source": [
    "ws.title = \"MySheet\" #Sheet 이름 변경"
   ]
  },
  {
   "cell_type": "markdown",
   "id": "24bac0e1-da2c-4379-a190-0b14b0e54b26",
   "metadata": {},
   "source": [
    "## RGB값 찾는 사이트\n",
    "https://www.w3schools.com/colors/colors_rgb.asp"
   ]
  },
  {
   "cell_type": "code",
   "execution_count": 18,
   "id": "e2a2072b-c3e5-46a7-bfd0-64815677fae9",
   "metadata": {},
   "outputs": [],
   "source": [
    "ws.sheet_properties.tabColor = \"96cccd\" #RGB 값 넣어주면 색 변경 된다"
   ]
  },
  {
   "cell_type": "code",
   "execution_count": 19,
   "id": "48409aea-1e29-4bd1-829c-dcac10199ccc",
   "metadata": {},
   "outputs": [],
   "source": [
    "ws1 = wb.create_sheet(\"YourSheet\") # 주어진 이름으로 Sheet 생성"
   ]
  },
  {
   "cell_type": "code",
   "execution_count": 20,
   "id": "51813674-edc1-4020-8a79-12c069f889da",
   "metadata": {},
   "outputs": [],
   "source": [
    "ws2 = wb.create_sheet(\"NewSheet\",2) # 2번째 index에 Sheet 생성"
   ]
  },
  {
   "cell_type": "code",
   "execution_count": 21,
   "id": "976c83a8-1917-4621-a48b-7bbf04bc027c",
   "metadata": {},
   "outputs": [],
   "source": [
    "#ws1.active~ ws2.active~ 로 sheet별 접근 가능"
   ]
  },
  {
   "cell_type": "code",
   "execution_count": 22,
   "id": "d1c03e1e-e2d9-44cd-a0a7-16ee5d7728aa",
   "metadata": {},
   "outputs": [],
   "source": [
    "new_ws = wb[\"NewSheet\"] #dic 형태로 sheet에 접근도 가능"
   ]
  },
  {
   "cell_type": "code",
   "execution_count": 28,
   "id": "09ebfd28-0c51-44d5-8045-06003f09e913",
   "metadata": {},
   "outputs": [
    {
     "name": "stdout",
     "output_type": "stream",
     "text": [
      "['Sheet', 'MySheet', 'NewSheet', 'YourSheet', 'Copied Sheet']\n"
     ]
    }
   ],
   "source": [
    "print(wb.sheetnames) #모든 sheet 이름 확인"
   ]
  },
  {
   "cell_type": "markdown",
   "id": "45d0bf00-78fe-4309-89ea-b0cc1bacbebe",
   "metadata": {},
   "source": [
    "### Sheet 복사"
   ]
  },
  {
   "cell_type": "code",
   "execution_count": 24,
   "id": "a815767d-a282-493d-ab14-4685fda79bfb",
   "metadata": {},
   "outputs": [],
   "source": [
    " new_ws[\"A1\"]  = \"Test\" #new_ws -> NewSheet 의 A1셀 값을 Test로 설정"
   ]
  },
  {
   "cell_type": "code",
   "execution_count": 25,
   "id": "6b35993c-2da5-4812-9748-16ad2a98b1b1",
   "metadata": {},
   "outputs": [],
   "source": [
    "target = wb.copy_worksheet(new_ws) #wb 내의 new_ws(NewSheet)를 복사"
   ]
  },
  {
   "cell_type": "code",
   "execution_count": 26,
   "id": "47466550-8824-454e-afcb-b3beb7f59432",
   "metadata": {},
   "outputs": [],
   "source": [
    "target.title = \"Copied Sheet\" #복사된 Sheet의 이름은 Copied Sheet"
   ]
  },
  {
   "cell_type": "code",
   "execution_count": 27,
   "id": "9c57273d-0a11-4b77-83e9-4dfeea43b778",
   "metadata": {},
   "outputs": [],
   "source": [
    "wb.save(\"sample.xlsx\")"
   ]
  },
  {
   "cell_type": "code",
   "execution_count": null,
   "id": "430f4314-2d5e-48d1-869f-32af0f193d5c",
   "metadata": {},
   "outputs": [],
   "source": []
  }
 ],
 "metadata": {
  "kernelspec": {
   "display_name": "Python 3 (ipykernel)",
   "language": "python",
   "name": "python3"
  },
  "language_info": {
   "codemirror_mode": {
    "name": "ipython",
    "version": 3
   },
   "file_extension": ".py",
   "mimetype": "text/x-python",
   "name": "python",
   "nbconvert_exporter": "python",
   "pygments_lexer": "ipython3",
   "version": "3.9.7"
  }
 },
 "nbformat": 4,
 "nbformat_minor": 5
}
