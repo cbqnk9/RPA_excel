{
 "cells": [
  {
   "cell_type": "code",
   "execution_count": 13,
   "id": "379128b6-4797-4fca-ba3b-cf9367ed7a5e",
   "metadata": {},
   "outputs": [],
   "source": [
    "from openpyxl import load_workbook\n",
    "wb = load_workbook(\"sample.xlsx\")\n",
    "ws = wb.active"
   ]
  },
  {
   "cell_type": "code",
   "execution_count": 8,
   "id": "d933ca86-ff51-41b0-a064-344d82d98c09",
   "metadata": {},
   "outputs": [],
   "source": [
    "#번호 영어 수학\n",
    "#번호 \"국어\" 영어 수학"
   ]
  },
  {
   "cell_type": "code",
   "execution_count": 9,
   "id": "285cdbac-8afc-45ac-a975-f703559fed53",
   "metadata": {},
   "outputs": [],
   "source": [
    "ws.move_range(\"B1:C11\",rows=0,cols=1) \n",
    "#B1부터 C11의 값을 rows(행)는 칸, cols(열)은 1칸 옮긴다.\n",
    "# -(음수)값을 넣으면 반대로 움직인다 (행은 위로, 열은 왼쪽으로)"
   ]
  },
  {
   "cell_type": "code",
   "execution_count": 11,
   "id": "3156ee2a-0c8c-44b6-8c9c-310bdd7ab3ab",
   "metadata": {},
   "outputs": [],
   "source": [
    "ws[\"B1\"] = \"국어\" #ws[\"B1\"].value = \"국어\""
   ]
  },
  {
   "cell_type": "code",
   "execution_count": 14,
   "id": "cac8ab62-5253-4bc1-8b93-8d408f38af11",
   "metadata": {},
   "outputs": [],
   "source": [
    "ws.move_range(\"C1:C11\",rows=0,cols=-1) #영어 없이 수학만 남음(원래 있던 내용 위에 씀)"
   ]
  },
  {
   "cell_type": "code",
   "execution_count": 15,
   "id": "87e2fabb-3cfa-417b-89ba-1d71e3a10034",
   "metadata": {},
   "outputs": [],
   "source": [
    "wb.save(\"move.xlsx\")"
   ]
  },
  {
   "cell_type": "code",
   "execution_count": null,
   "id": "0de0a8b6-466d-4c8d-ab2f-5b3ee854d8bc",
   "metadata": {},
   "outputs": [],
   "source": []
  }
 ],
 "metadata": {
  "kernelspec": {
   "display_name": "Python 3 (ipykernel)",
   "language": "python",
   "name": "python3"
  },
  "language_info": {
   "codemirror_mode": {
    "name": "ipython",
    "version": 3
   },
   "file_extension": ".py",
   "mimetype": "text/x-python",
   "name": "python",
   "nbconvert_exporter": "python",
   "pygments_lexer": "ipython3",
   "version": "3.9.7"
  }
 },
 "nbformat": 4,
 "nbformat_minor": 5
}
