{
 "cells": [
  {
   "cell_type": "code",
   "execution_count": 30,
   "id": "2918cf5f-adcb-4804-8529-c7bf56e89f4f",
   "metadata": {},
   "outputs": [],
   "source": [
    "from openpyxl import load_workbook"
   ]
  },
  {
   "cell_type": "code",
   "execution_count": 31,
   "id": "d793ccb5-9980-4927-867a-2a5f475e187c",
   "metadata": {},
   "outputs": [],
   "source": [
    "wb = load_workbook(\"sample.xlsx\")\n",
    "ws = wb.active"
   ]
  },
  {
   "cell_type": "code",
   "execution_count": 34,
   "id": "e70b8cff-9525-4e07-a8de-7fcd9db52643",
   "metadata": {},
   "outputs": [],
   "source": [
    "for row in ws.iter_rows(max_row = 1):\n",
    "    for cell in row:\n",
    "        if cell.value == \"영어\":\n",
    "            cell.value = \"컴퓨터\""
   ]
  },
  {
   "cell_type": "code",
   "execution_count": 35,
   "id": "90c027ed-f4ba-4b85-89ed-35a846b3b790",
   "metadata": {},
   "outputs": [],
   "source": [
    "wb.save(\"sample_modified.xlsx\")"
   ]
  },
  {
   "cell_type": "code",
   "execution_count": null,
   "id": "0a6ff92b-521f-42a3-983b-930c5127f9e4",
   "metadata": {},
   "outputs": [],
   "source": []
  },
  {
   "cell_type": "code",
   "execution_count": null,
   "id": "ff802727-281f-4c32-b5a7-b955a70337b4",
   "metadata": {},
   "outputs": [],
   "source": []
  },
  {
   "cell_type": "code",
   "execution_count": null,
   "id": "8e3670e2-6b3b-482e-88a7-24381bf29527",
   "metadata": {},
   "outputs": [],
   "source": []
  },
  {
   "cell_type": "code",
   "execution_count": null,
   "id": "3440a2a5-a014-43f9-ba52-7ab79077fcd1",
   "metadata": {},
   "outputs": [],
   "source": []
  },
  {
   "cell_type": "code",
   "execution_count": null,
   "id": "cede55ac-b913-4dc8-9b68-68929a888470",
   "metadata": {},
   "outputs": [],
   "source": []
  },
  {
   "cell_type": "code",
   "execution_count": null,
   "id": "fccbcab5-6985-4e3e-8d74-bbcee8a7b1d5",
   "metadata": {},
   "outputs": [],
   "source": []
  }
 ],
 "metadata": {
  "kernelspec": {
   "display_name": "Python 3 (ipykernel)",
   "language": "python",
   "name": "python3"
  },
  "language_info": {
   "codemirror_mode": {
    "name": "ipython",
    "version": 3
   },
   "file_extension": ".py",
   "mimetype": "text/x-python",
   "name": "python",
   "nbconvert_exporter": "python",
   "pygments_lexer": "ipython3",
   "version": "3.9.7"
  }
 },
 "nbformat": 4,
 "nbformat_minor": 5
}
