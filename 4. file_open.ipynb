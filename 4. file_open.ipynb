{
 "cells": [
  {
   "cell_type": "code",
   "execution_count": 1,
   "id": "f5a77117-2e56-4fb4-9554-b83ab0fc56e8",
   "metadata": {},
   "outputs": [],
   "source": [
    "from openpyxl import load_workbook #파일 불러오기"
   ]
  },
  {
   "cell_type": "code",
   "execution_count": 2,
   "id": "44ecce71-fb55-48bb-8d03-ce5b3065f449",
   "metadata": {},
   "outputs": [],
   "source": [
    "wb = load_workbook(\"sample.xlsx\") #sample.xlsx에서 wb 불러옴"
   ]
  },
  {
   "cell_type": "code",
   "execution_count": 4,
   "id": "869a3ca6-5bd5-4e61-970e-ff5ad3c32901",
   "metadata": {},
   "outputs": [],
   "source": [
    "ws = wb.active # 활성화된 Sheet"
   ]
  },
  {
   "cell_type": "code",
   "execution_count": null,
   "id": "b1637c93-d234-4ebe-852b-f12397fa181a",
   "metadata": {},
   "outputs": [],
   "source": []
  },
  {
   "cell_type": "markdown",
   "id": "586bb1e9-8bc9-40b6-8ea7-79cb557d89c8",
   "metadata": {},
   "source": [
    "#### Cell data 불러오기"
   ]
  },
  {
   "cell_type": "code",
   "execution_count": 10,
   "id": "5455007a-17f8-4504-8a9d-b50e3bd07f8c",
   "metadata": {},
   "outputs": [
    {
     "name": "stdout",
     "output_type": "stream",
     "text": [
      "1\t2\t3\t4\t5\t6\t7\t8\t9\t10\t\n",
      "11\t12\t13\t14\t15\t16\t17\t18\t19\t20\t\n",
      "21\t22\t23\t24\t25\t26\t27\t28\t29\t30\t\n",
      "31\t32\t33\t34\t35\t36\t37\t38\t39\t40\t\n",
      "41\t42\t43\t44\t45\t46\t47\t48\t49\t50\t\n",
      "51\t52\t53\t54\t55\t56\t57\t58\t59\t60\t\n",
      "61\t62\t63\t64\t65\t66\t67\t68\t69\t70\t\n",
      "71\t72\t73\t74\t75\t76\t77\t78\t79\t80\t\n",
      "81\t82\t83\t84\t85\t86\t87\t88\t89\t90\t\n",
      "91\t92\t93\t94\t95\t96\t97\t98\t99\t100\t\n"
     ]
    }
   ],
   "source": [
    "for x in range(1,11):\n",
    "    for y in range(1,11):\n",
    "        print(ws.cell(x,y).value,end = \"\\t\")\n",
    "    print()"
   ]
  },
  {
   "cell_type": "markdown",
   "id": "c9829df2-dbc5-4d7f-8ab1-4deb8474a62b",
   "metadata": {},
   "source": [
    "#### Cell 갯수를 모를 때"
   ]
  },
  {
   "cell_type": "code",
   "execution_count": 12,
   "id": "b854832c-8fa5-4878-bdd0-51af7b4612c6",
   "metadata": {},
   "outputs": [
    {
     "name": "stdout",
     "output_type": "stream",
     "text": [
      "1\t2\t3\t4\t5\t6\t7\t8\t9\t10\t\n",
      "11\t12\t13\t14\t15\t16\t17\t18\t19\t20\t\n",
      "21\t22\t23\t24\t25\t26\t27\t28\t29\t30\t\n",
      "31\t32\t33\t34\t35\t36\t37\t38\t39\t40\t\n",
      "41\t42\t43\t44\t45\t46\t47\t48\t49\t50\t\n",
      "51\t52\t53\t54\t55\t56\t57\t58\t59\t60\t\n",
      "61\t62\t63\t64\t65\t66\t67\t68\t69\t70\t\n",
      "71\t72\t73\t74\t75\t76\t77\t78\t79\t80\t\n",
      "81\t82\t83\t84\t85\t86\t87\t88\t89\t90\t\n",
      "91\t92\t93\t94\t95\t96\t97\t98\t99\t100\t\n"
     ]
    }
   ],
   "source": [
    "for x in range(1,ws.max_row+1): #range마지막 값 +1\n",
    "    for y in range(1,ws.max_column+1):\n",
    "        print(ws.cell(x,y).value,end = \"\\t\")\n",
    "    print()"
   ]
  },
  {
   "cell_type": "code",
   "execution_count": null,
   "id": "4c96d29c-808f-4558-b79a-a4188f9273c0",
   "metadata": {},
   "outputs": [],
   "source": []
  },
  {
   "cell_type": "code",
   "execution_count": null,
   "id": "36e01fe9-939d-407a-ad0c-e3e97702dcf1",
   "metadata": {},
   "outputs": [],
   "source": []
  }
 ],
 "metadata": {
  "kernelspec": {
   "display_name": "Python 3 (ipykernel)",
   "language": "python",
   "name": "python3"
  },
  "language_info": {
   "codemirror_mode": {
    "name": "ipython",
    "version": 3
   },
   "file_extension": ".py",
   "mimetype": "text/x-python",
   "name": "python",
   "nbconvert_exporter": "python",
   "pygments_lexer": "ipython3",
   "version": "3.9.7"
  }
 },
 "nbformat": 4,
 "nbformat_minor": 5
}
