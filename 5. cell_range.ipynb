{
 "cells": [
  {
   "cell_type": "code",
   "execution_count": 2,
   "id": "52cad8bd-866f-4d2d-9780-629856332ece",
   "metadata": {},
   "outputs": [],
   "source": [
    "from openpyxl import Workbook\n",
    "from random import *"
   ]
  },
  {
   "cell_type": "code",
   "execution_count": 43,
   "id": "4bdad7eb-91c7-4347-8d9d-f63a3bfc6f0a",
   "metadata": {},
   "outputs": [],
   "source": [
    "wb = Workbook()\n",
    "ws = wb.active"
   ]
  },
  {
   "cell_type": "markdown",
   "id": "2c18b1ee-6bdf-4920-beff-a507bc0df327",
   "metadata": {},
   "source": [
    "### 한 줄씩 data 넣기"
   ]
  },
  {
   "cell_type": "code",
   "execution_count": 4,
   "id": "f60591e6-4ed5-423c-a62a-2ea200b08c92",
   "metadata": {},
   "outputs": [],
   "source": [
    "ws.append([\"번호\",\"영어\",\"수학\"])"
   ]
  },
  {
   "cell_type": "code",
   "execution_count": 5,
   "id": "ab2e1ab9-ae91-4863-9760-57fe70af22ce",
   "metadata": {},
   "outputs": [],
   "source": [
    "for i in range(1,11):\n",
    "    ws.append([i, randint(0,100),randint(0,100)])"
   ]
  },
  {
   "cell_type": "markdown",
   "id": "25c37fcb-f869-4e5f-964b-481c25d10ce1",
   "metadata": {},
   "source": [
    "##### 영어 점수만 가져오고 싶을 때"
   ]
  },
  {
   "cell_type": "code",
   "execution_count": 6,
   "id": "22c56110-9d74-4502-9f6b-c36baf40ce89",
   "metadata": {},
   "outputs": [],
   "source": [
    "col_Eng = ws[\"B\"]"
   ]
  },
  {
   "cell_type": "code",
   "execution_count": 7,
   "id": "29f4518b-11e5-45cf-a4dc-d9509ec4d77c",
   "metadata": {},
   "outputs": [
    {
     "name": "stdout",
     "output_type": "stream",
     "text": [
      "(<Cell 'Sheet'.B1>, <Cell 'Sheet'.B2>, <Cell 'Sheet'.B3>, <Cell 'Sheet'.B4>, <Cell 'Sheet'.B5>, <Cell 'Sheet'.B6>, <Cell 'Sheet'.B7>, <Cell 'Sheet'.B8>, <Cell 'Sheet'.B9>, <Cell 'Sheet'.B10>, <Cell 'Sheet'.B11>)\n"
     ]
    }
   ],
   "source": [
    "print(col_Eng)"
   ]
  },
  {
   "cell_type": "code",
   "execution_count": 8,
   "id": "c183dd34-0b4a-4b60-a489-604babc5ccc1",
   "metadata": {},
   "outputs": [
    {
     "name": "stdout",
     "output_type": "stream",
     "text": [
      "영어\n",
      "44\n",
      "2\n",
      "45\n",
      "60\n",
      "92\n",
      "10\n",
      "70\n",
      "72\n",
      "65\n",
      "80\n"
     ]
    }
   ],
   "source": [
    "for cell in col_Eng:\n",
    "    print(cell.value)"
   ]
  },
  {
   "cell_type": "markdown",
   "id": "e5ecfdb8-ef3f-428e-9515-39d45c869229",
   "metadata": {},
   "source": [
    "- 번호 없이 영어 수학 점수만 가져오고 싶을 때"
   ]
  },
  {
   "cell_type": "code",
   "execution_count": 9,
   "id": "0d724663-d469-4ede-ac7b-5ab800fc8d48",
   "metadata": {},
   "outputs": [],
   "source": [
    "col_score = ws[\"B:C\"]"
   ]
  },
  {
   "cell_type": "code",
   "execution_count": 10,
   "id": "a1ea309d-8a97-4dbd-a841-fc009030279a",
   "metadata": {},
   "outputs": [
    {
     "name": "stdout",
     "output_type": "stream",
     "text": [
      "영어\n",
      "44\n",
      "2\n",
      "45\n",
      "60\n",
      "92\n",
      "10\n",
      "70\n",
      "72\n",
      "65\n",
      "80\n",
      "\n",
      "수학\n",
      "60\n",
      "5\n",
      "88\n",
      "21\n",
      "97\n",
      "19\n",
      "100\n",
      "43\n",
      "68\n",
      "23\n",
      "\n"
     ]
    }
   ],
   "source": [
    "for col in col_score:\n",
    "    for score in col:\n",
    "        print(score.value)\n",
    "    print()"
   ]
  },
  {
   "cell_type": "markdown",
   "id": "fe34c5f5-c265-4215-87f3-4c569b7b264a",
   "metadata": {},
   "source": [
    "- 항목 값만 가져오기"
   ]
  },
  {
   "cell_type": "code",
   "execution_count": 11,
   "id": "3bbbf233-0ff2-4971-82b1-57eed789964d",
   "metadata": {},
   "outputs": [],
   "source": [
    "title = ws[1]"
   ]
  },
  {
   "cell_type": "code",
   "execution_count": 12,
   "id": "5686c406-4048-44a6-a3db-3815a88a7d1f",
   "metadata": {},
   "outputs": [
    {
     "name": "stdout",
     "output_type": "stream",
     "text": [
      "번호 영어 수학 "
     ]
    }
   ],
   "source": [
    "for t in title:\n",
    "    print(t.value, end = \" \")"
   ]
  },
  {
   "cell_type": "code",
   "execution_count": 13,
   "id": "0e8b9157-0853-4ee1-a682-cfbaf62407fa",
   "metadata": {},
   "outputs": [],
   "source": [
    "row_range = ws[2:6] # 2행부터 6행까지"
   ]
  },
  {
   "cell_type": "code",
   "execution_count": 14,
   "id": "edb898ce-fe57-4956-a445-a0d6d06b715a",
   "metadata": {},
   "outputs": [
    {
     "name": "stdout",
     "output_type": "stream",
     "text": [
      "1\t44\t60\t\n",
      "2\t2\t5\t\n",
      "3\t45\t88\t\n",
      "4\t60\t21\t\n",
      "5\t92\t97\t\n"
     ]
    }
   ],
   "source": [
    "for rows in row_range:\n",
    "    for cell in rows:\n",
    "        print(cell.value, end = \"\\t\")\n",
    "    print()"
   ]
  },
  {
   "cell_type": "markdown",
   "id": "77d29f97-43fa-46a4-ad0b-a8bb73455270",
   "metadata": {},
   "source": [
    "- 2번쨰 줄부터 마지막 줄까지"
   ]
  },
  {
   "cell_type": "code",
   "execution_count": 15,
   "id": "de5fc3f9-9670-4f82-9bc1-4299b641b877",
   "metadata": {},
   "outputs": [],
   "source": [
    "row_range = ws[2:ws.max_row]"
   ]
  },
  {
   "cell_type": "code",
   "execution_count": 16,
   "id": "d22266b9-0b28-42a7-adbf-725c0039d05d",
   "metadata": {},
   "outputs": [
    {
     "name": "stdout",
     "output_type": "stream",
     "text": [
      "1 44 60 \n",
      "2 2 5 \n",
      "3 45 88 \n",
      "4 60 21 \n",
      "5 92 97 \n",
      "6 10 19 \n",
      "7 70 100 \n",
      "8 72 43 \n",
      "9 65 68 \n",
      "10 80 23 \n"
     ]
    }
   ],
   "source": [
    "for row in row_range:\n",
    "    for cell in row:\n",
    "        print(cell.value,end= \" \")\n",
    "    print()"
   ]
  },
  {
   "cell_type": "code",
   "execution_count": null,
   "id": "5eff037a-df38-48a5-a0f2-5cb4460033f5",
   "metadata": {},
   "outputs": [],
   "source": []
  },
  {
   "cell_type": "code",
   "execution_count": 17,
   "id": "6d20e38b-7773-40d1-9d2e-2df728ec0e96",
   "metadata": {},
   "outputs": [],
   "source": [
    "from openpyxl.utils.cell import coordinate_from_string"
   ]
  },
  {
   "cell_type": "code",
   "execution_count": 18,
   "id": "ff897ffc-141f-43b5-ae8f-ec0046cc334b",
   "metadata": {},
   "outputs": [
    {
     "name": "stdout",
     "output_type": "stream",
     "text": [
      "A2 B2 C2 \n",
      "A3 B3 C3 \n",
      "A4 B4 C4 \n",
      "A5 B5 C5 \n",
      "A6 B6 C6 \n",
      "A7 B7 C7 \n",
      "A8 B8 C8 \n",
      "A9 B9 C9 \n",
      "A10 B10 C10 \n",
      "A11 B11 C11 \n"
     ]
    }
   ],
   "source": [
    "for row in row_range:\n",
    "    for cell in row:\n",
    "        print(cell.coordinate, end = \" \")\n",
    "    print()"
   ]
  },
  {
   "cell_type": "code",
   "execution_count": 19,
   "id": "c7458e35-e0fc-4d10-baf6-a129156643ab",
   "metadata": {},
   "outputs": [
    {
     "name": "stdout",
     "output_type": "stream",
     "text": [
      "('A', 2)('B', 2)('C', 2)\n",
      "('A', 3)('B', 3)('C', 3)\n",
      "('A', 4)('B', 4)('C', 4)\n",
      "('A', 5)('B', 5)('C', 5)\n",
      "('A', 6)('B', 6)('C', 6)\n",
      "('A', 7)('B', 7)('C', 7)\n",
      "('A', 8)('B', 8)('C', 8)\n",
      "('A', 9)('B', 9)('C', 9)\n",
      "('A', 10)('B', 10)('C', 10)\n",
      "('A', 11)('B', 11)('C', 11)\n"
     ]
    }
   ],
   "source": [
    "for row in row_range:\n",
    "    for cell in row:\n",
    "        xy = coordinate_from_string(cell.coordinate) # 행 열 좌표값 구분해서 출력\n",
    "        print(xy, end = \"\")\n",
    "    print()"
   ]
  },
  {
   "cell_type": "code",
   "execution_count": null,
   "id": "988d87a0-0aee-4818-9460-dd9cce9a5c89",
   "metadata": {},
   "outputs": [],
   "source": []
  },
  {
   "cell_type": "markdown",
   "id": "1a28709f-86db-473c-aa40-10a9d1772e77",
   "metadata": {},
   "source": [
    "### 전체 row를 가져오고 싶을 때"
   ]
  },
  {
   "cell_type": "code",
   "execution_count": 22,
   "id": "6d7a1187-1cdb-4391-b920-39f7df147329",
   "metadata": {},
   "outputs": [
    {
     "name": "stdout",
     "output_type": "stream",
     "text": [
      "<generator object Worksheet._cells_by_row at 0x00000198FA6666D0>\n",
      "((<Cell 'Sheet'.A1>, <Cell 'Sheet'.B1>, <Cell 'Sheet'.C1>), (<Cell 'Sheet'.A2>, <Cell 'Sheet'.B2>, <Cell 'Sheet'.C2>), (<Cell 'Sheet'.A3>, <Cell 'Sheet'.B3>, <Cell 'Sheet'.C3>), (<Cell 'Sheet'.A4>, <Cell 'Sheet'.B4>, <Cell 'Sheet'.C4>), (<Cell 'Sheet'.A5>, <Cell 'Sheet'.B5>, <Cell 'Sheet'.C5>), (<Cell 'Sheet'.A6>, <Cell 'Sheet'.B6>, <Cell 'Sheet'.C6>), (<Cell 'Sheet'.A7>, <Cell 'Sheet'.B7>, <Cell 'Sheet'.C7>), (<Cell 'Sheet'.A8>, <Cell 'Sheet'.B8>, <Cell 'Sheet'.C8>), (<Cell 'Sheet'.A9>, <Cell 'Sheet'.B9>, <Cell 'Sheet'.C9>), (<Cell 'Sheet'.A10>, <Cell 'Sheet'.B10>, <Cell 'Sheet'.C10>), (<Cell 'Sheet'.A11>, <Cell 'Sheet'.B11>, <Cell 'Sheet'.C11>))\n",
      "((<Cell 'Sheet'.A1>, <Cell 'Sheet'.A2>, <Cell 'Sheet'.A3>, <Cell 'Sheet'.A4>, <Cell 'Sheet'.A5>, <Cell 'Sheet'.A6>, <Cell 'Sheet'.A7>, <Cell 'Sheet'.A8>, <Cell 'Sheet'.A9>, <Cell 'Sheet'.A10>, <Cell 'Sheet'.A11>), (<Cell 'Sheet'.B1>, <Cell 'Sheet'.B2>, <Cell 'Sheet'.B3>, <Cell 'Sheet'.B4>, <Cell 'Sheet'.B5>, <Cell 'Sheet'.B6>, <Cell 'Sheet'.B7>, <Cell 'Sheet'.B8>, <Cell 'Sheet'.B9>, <Cell 'Sheet'.B10>, <Cell 'Sheet'.B11>), (<Cell 'Sheet'.C1>, <Cell 'Sheet'.C2>, <Cell 'Sheet'.C3>, <Cell 'Sheet'.C4>, <Cell 'Sheet'.C5>, <Cell 'Sheet'.C6>, <Cell 'Sheet'.C7>, <Cell 'Sheet'.C8>, <Cell 'Sheet'.C9>, <Cell 'Sheet'.C10>, <Cell 'Sheet'.C11>))\n"
     ]
    }
   ],
   "source": [
    "print(ws.rows)\n",
    "print(tuple(ws.rows)) #행마다 가져옴\n",
    "print(tuple(ws.columns)) #열마다 가져옴"
   ]
  },
  {
   "cell_type": "code",
   "execution_count": 26,
   "id": "d0961d6f-7dce-48d7-9812-b963615fe55f",
   "metadata": {},
   "outputs": [
    {
     "name": "stdout",
     "output_type": "stream",
     "text": [
      "영어\n",
      "44\n",
      "2\n",
      "45\n",
      "60\n",
      "92\n",
      "10\n",
      "70\n",
      "72\n",
      "65\n",
      "80\n"
     ]
    }
   ],
   "source": [
    "for row in tuple(ws.rows):\n",
    "    print(row[1].value) #tuple형태인 row의 [1]번 인덱스 값은 번호/영어/수학 중 영어 -> 영어 행의 모든 내용 가져옴"
   ]
  },
  {
   "cell_type": "code",
   "execution_count": 28,
   "id": "85b8ac9b-9340-4492-ae59-9a8bfed8c03d",
   "metadata": {},
   "outputs": [
    {
     "name": "stdout",
     "output_type": "stream",
     "text": [
      "번호\n",
      "영어\n",
      "수학\n"
     ]
    }
   ],
   "source": [
    "for col in tuple(ws.columns):\n",
    "    print(col[0].value)"
   ]
  },
  {
   "cell_type": "markdown",
   "id": "bd943747-bd73-4612-8c69-6b277943caf8",
   "metadata": {},
   "source": [
    "##### 같은 방식"
   ]
  },
  {
   "cell_type": "code",
   "execution_count": 30,
   "id": "a722dc00-9475-42d0-91be-4ff8161b1c7f",
   "metadata": {},
   "outputs": [
    {
     "name": "stdout",
     "output_type": "stream",
     "text": [
      "영어\n",
      "44\n",
      "2\n",
      "45\n",
      "60\n",
      "92\n",
      "10\n",
      "70\n",
      "72\n",
      "65\n",
      "80\n"
     ]
    }
   ],
   "source": [
    "for row in ws.iter_rows(): #전체 row\n",
    "    print(row[1].value)"
   ]
  },
  {
   "cell_type": "code",
   "execution_count": 34,
   "id": "9f799d03-3527-4033-9296-850116e87577",
   "metadata": {},
   "outputs": [
    {
     "name": "stdout",
     "output_type": "stream",
     "text": [
      "번호\n",
      "영어\n",
      "수학\n"
     ]
    }
   ],
   "source": [
    "for col in ws.iter_cols():#전체 columns\n",
    "    print(col[0].value)"
   ]
  },
  {
   "cell_type": "code",
   "execution_count": null,
   "id": "ea4f55f5-b050-45c2-8494-e4ddb5d7dde0",
   "metadata": {},
   "outputs": [],
   "source": [
    "# ws.iter_cols(min_row,min_col,max_row,max_col)\n",
    "# min_row = 1, max_row = 5 등의 값을 넣어 범위설정 가능\n",
    "#해당 숫자는 엑셀 기준!"
   ]
  },
  {
   "cell_type": "code",
   "execution_count": 42,
   "id": "9fd3022d-2228-4d33-b0d2-58be6b278161",
   "metadata": {},
   "outputs": [
    {
     "name": "stdout",
     "output_type": "stream",
     "text": [
      "번호 영어 수학\n",
      "(<Cell 'Sheet'.A1>, <Cell 'Sheet'.B1>, <Cell 'Sheet'.C1>)\n",
      "1 44 60\n",
      "(<Cell 'Sheet'.A2>, <Cell 'Sheet'.B2>, <Cell 'Sheet'.C2>)\n",
      "2 2 5\n",
      "(<Cell 'Sheet'.A3>, <Cell 'Sheet'.B3>, <Cell 'Sheet'.C3>)\n",
      "3 45 88\n",
      "(<Cell 'Sheet'.A4>, <Cell 'Sheet'.B4>, <Cell 'Sheet'.C4>)\n",
      "번호 1 2\n",
      "(<Cell 'Sheet'.A1>, <Cell 'Sheet'.A2>, <Cell 'Sheet'.A3>, <Cell 'Sheet'.A4>)\n",
      "영어 44 2\n",
      "(<Cell 'Sheet'.B1>, <Cell 'Sheet'.B2>, <Cell 'Sheet'.B3>, <Cell 'Sheet'.B4>)\n",
      "수학 60 5\n",
      "(<Cell 'Sheet'.C1>, <Cell 'Sheet'.C2>, <Cell 'Sheet'.C3>, <Cell 'Sheet'.C4>)\n"
     ]
    }
   ],
   "source": [
    "for cell in ws.iter_rows(min_row=1,max_row=4,min_col=1,max_col=3):#전체 columns\n",
    "    print(cell[0].value, cell[1].value, cell[2].value)\n",
    "    print(cell)\n",
    "    \n",
    "for cell in ws.iter_cols(min_row=1,max_row=4,min_col=1,max_col=3):#전체 columns\n",
    "    print(cell[0].value, cell[1].value, cell[2].value)\n",
    "    print(cell)\n",
    "    \n",
    "#둘이 값 출력 형태가 다른 이유는 불러오는 방식(행/열)이 다르기 때문"
   ]
  },
  {
   "cell_type": "code",
   "execution_count": null,
   "id": "386e69da-ca8e-460d-9784-3de4004ccb56",
   "metadata": {},
   "outputs": [
    {
     "name": "stdout",
     "output_type": "stream",
     "text": [
      "번호 1 2\n",
      "영어 44 2\n",
      "수학 60 5\n"
     ]
    }
   ],
   "source": [
    "for cell in ws.iter_rows(min_row=1,max_row=4,min_col=1,max_col=3):#전체 columns\n",
    "    print(cell[0].value, cell[1].value, cell[2].value)"
   ]
  },
  {
   "cell_type": "code",
   "execution_count": null,
   "id": "7e21d3be-8060-4cb4-a551-5d1b0c9111ce",
   "metadata": {},
   "outputs": [],
   "source": []
  },
  {
   "cell_type": "code",
   "execution_count": null,
   "id": "13b54aa5-3be9-40ff-894b-2b8cea7abc34",
   "metadata": {},
   "outputs": [],
   "source": []
  },
  {
   "cell_type": "code",
   "execution_count": null,
   "id": "503bef07-c584-4a81-a8c8-9e39289d78b3",
   "metadata": {},
   "outputs": [],
   "source": []
  },
  {
   "cell_type": "code",
   "execution_count": null,
   "id": "5fe3ee98-3909-4814-a852-a50d5df481d0",
   "metadata": {},
   "outputs": [],
   "source": []
  },
  {
   "cell_type": "code",
   "execution_count": 7,
   "id": "7123bd50-1587-43b0-947b-dfdf3d7fd6ae",
   "metadata": {},
   "outputs": [],
   "source": [
    "wb.save(\"sample.xlsx\")"
   ]
  }
 ],
 "metadata": {
  "kernelspec": {
   "display_name": "Python 3 (ipykernel)",
   "language": "python",
   "name": "python3"
  },
  "language_info": {
   "codemirror_mode": {
    "name": "ipython",
    "version": 3
   },
   "file_extension": ".py",
   "mimetype": "text/x-python",
   "name": "python",
   "nbconvert_exporter": "python",
   "pygments_lexer": "ipython3",
   "version": "3.9.7"
  }
 },
 "nbformat": 4,
 "nbformat_minor": 5
}
