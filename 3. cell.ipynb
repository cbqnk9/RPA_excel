{
 "cells": [
  {
   "cell_type": "code",
   "execution_count": 1,
   "id": "f70cf454-8e80-4207-8e75-eebaa0869e77",
   "metadata": {},
   "outputs": [],
   "source": [
    "from openpyxl import Workbook"
   ]
  },
  {
   "cell_type": "code",
   "execution_count": 2,
   "id": "13b0021a-36df-45ec-aca9-7ce34d459848",
   "metadata": {},
   "outputs": [],
   "source": [
    "wb = Workbook()\n",
    "ws = wb.active\n",
    "ws.title = \"JOIKJ\""
   ]
  },
  {
   "cell_type": "markdown",
   "id": "e2ae990b-9d68-4836-a894-00a11b8dc212",
   "metadata": {},
   "source": [
    "### 셀에 원하는 값 입력"
   ]
  },
  {
   "cell_type": "code",
   "execution_count": 3,
   "id": "0db4bb3e-1cd0-4c56-9c97-9d71309a686e",
   "metadata": {},
   "outputs": [],
   "source": [
    "ws[\"A1\"] = 1"
   ]
  },
  {
   "cell_type": "code",
   "execution_count": 4,
   "id": "2ef095dc-008f-4938-bae1-148ce434a243",
   "metadata": {},
   "outputs": [],
   "source": [
    "ws[\"A2\"] = 2"
   ]
  },
  {
   "cell_type": "code",
   "execution_count": 5,
   "id": "b224ad93-6bec-4e26-bb2b-e792f405b782",
   "metadata": {},
   "outputs": [],
   "source": [
    "ws[\"A3\"] = 3"
   ]
  },
  {
   "cell_type": "code",
   "execution_count": 6,
   "id": "e29858af-cc65-4513-b949-10b8c5ad2ad4",
   "metadata": {},
   "outputs": [],
   "source": [
    "ws[\"B1\"] = 4"
   ]
  },
  {
   "cell_type": "code",
   "execution_count": 7,
   "id": "b78677f4-404c-49c6-a166-94277d384f3d",
   "metadata": {},
   "outputs": [],
   "source": [
    "ws[\"B2\"] = 5"
   ]
  },
  {
   "cell_type": "code",
   "execution_count": 8,
   "id": "00a834bf-cdf8-4001-ba6b-9c0d2ef94103",
   "metadata": {},
   "outputs": [],
   "source": [
    "ws[\"B3\"] = 6"
   ]
  },
  {
   "cell_type": "markdown",
   "id": "27343f64-3073-4678-bbe9-773e9b160809",
   "metadata": {},
   "source": [
    "### Cell 값을 출력하는 방법"
   ]
  },
  {
   "cell_type": "code",
   "execution_count": null,
   "id": "a3203ebc-1f8f-4c45-a527-c94bb8310fea",
   "metadata": {},
   "outputs": [],
   "source": [
    "print(ws[\"A1\"]) #A1셀의 정보를 출력 - sheet의 객체정보를 다 보여줌"
   ]
  },
  {
   "cell_type": "code",
   "execution_count": 12,
   "id": "8b9fb8dc-6130-48c0-ab48-c730e10c0bb6",
   "metadata": {},
   "outputs": [
    {
     "name": "stdout",
     "output_type": "stream",
     "text": [
      "1\n"
     ]
    }
   ],
   "source": [
    "print(ws[\"A1\"].value) #A1셀의 값을 출력"
   ]
  },
  {
   "cell_type": "code",
   "execution_count": 13,
   "id": "3126987a-ab44-42e5-8d34-7c4c0f3b81e9",
   "metadata": {},
   "outputs": [
    {
     "name": "stdout",
     "output_type": "stream",
     "text": [
      "None\n"
     ]
    }
   ],
   "source": [
    "print(ws[\"A4\"].value) #값이 없을 땐 None 출력"
   ]
  },
  {
   "cell_type": "markdown",
   "id": "38207b94-a835-4498-9e55-2105ab6cf434",
   "metadata": {
    "tags": []
   },
   "source": [
    "#### ws.cell(row,column,value=None) color\n",
    "- row = 1, 2, 3 ....\n",
    "- column = A(1), B(2), C(3) ..."
   ]
  },
  {
   "cell_type": "code",
   "execution_count": 18,
   "id": "bfabc07c-0c0d-42d1-8cd4-e122bda57bd2",
   "metadata": {},
   "outputs": [
    {
     "data": {
      "text/plain": [
       "<Cell 'JOIKJ'.A1>"
      ]
     },
     "execution_count": 18,
     "metadata": {},
     "output_type": "execute_result"
    }
   ],
   "source": [
    "ws.cell(row = 1, column = 1) #셀의 정보를 출력 - sheet의 객체정보를 다 보여줌"
   ]
  },
  {
   "cell_type": "code",
   "execution_count": 17,
   "id": "3632f600-2b15-4646-92f4-bdb388012afb",
   "metadata": {},
   "outputs": [
    {
     "data": {
      "text/plain": [
       "1"
      ]
     },
     "execution_count": 17,
     "metadata": {},
     "output_type": "execute_result"
    }
   ],
   "source": [
    "ws.cell(row = 1, column = 1).value #셀의 값만 보여줌"
   ]
  },
  {
   "cell_type": "code",
   "execution_count": 20,
   "id": "75685121-900c-480c-884c-c38c2d36e595",
   "metadata": {},
   "outputs": [
    {
     "data": {
      "text/plain": [
       "4"
      ]
     },
     "execution_count": 20,
     "metadata": {},
     "output_type": "execute_result"
    }
   ],
   "source": [
    "ws.cell(column = 2, row = 1).value #순서 바꿔서 적어도 되고"
   ]
  },
  {
   "cell_type": "code",
   "execution_count": 21,
   "id": "888a008a-f089-4d97-8b5f-95b4668d96db",
   "metadata": {},
   "outputs": [
    {
     "data": {
      "text/plain": [
       "4"
      ]
     },
     "execution_count": 21,
     "metadata": {},
     "output_type": "execute_result"
    }
   ],
   "source": [
    "ws.cell(1,2).value #순서 그대로 적을 땐 값만 넣어도 된다"
   ]
  },
  {
   "cell_type": "code",
   "execution_count": 22,
   "id": "748f3ad3-1a53-43f3-b83d-b7175a5fe2e3",
   "metadata": {},
   "outputs": [
    {
     "data": {
      "text/plain": [
       "10"
      ]
     },
     "execution_count": 22,
     "metadata": {},
     "output_type": "execute_result"
    }
   ],
   "source": [
    "ws.cell(1,3,10).value # == ws[\"C1\"] = 10"
   ]
  },
  {
   "cell_type": "code",
   "execution_count": 38,
   "id": "fbe32f81-f4af-4c30-a6d8-3d3a3f40da6f",
   "metadata": {},
   "outputs": [],
   "source": [
    "d = ws.cell(1,4,\"hi\") # d에 셀 값을 넣음"
   ]
  },
  {
   "cell_type": "code",
   "execution_count": 39,
   "id": "ff16edf7-884a-4066-8aa6-e4e7044e8cb1",
   "metadata": {},
   "outputs": [
    {
     "name": "stdout",
     "output_type": "stream",
     "text": [
      "hi\n"
     ]
    }
   ],
   "source": [
    "print(d.value) #d의 값을 출력"
   ]
  },
  {
   "cell_type": "markdown",
   "id": "2ac87939-bcff-44c5-b700-d94159d9b518",
   "metadata": {},
   "source": [
    "### 반복문을 이용해 자동으로 값 넣기"
   ]
  },
  {
   "cell_type": "code",
   "execution_count": 40,
   "id": "5534f610-fc3c-4375-b3a8-50853400b187",
   "metadata": {},
   "outputs": [],
   "source": [
    "from random import *"
   ]
  },
  {
   "cell_type": "markdown",
   "id": "c3f7ed19-1dc8-40d6-9860-d8711640707c",
   "metadata": {},
   "source": [
    "##### 반복문을 이용해 랜덤 숫자 채우기"
   ]
  },
  {
   "cell_type": "code",
   "execution_count": 50,
   "id": "98e6e4f7-7fc8-4953-afa9-582edf4666cc",
   "metadata": {},
   "outputs": [],
   "source": [
    "i = 1\n",
    "for x in range(1,11):#10개 row의 값 채우고\n",
    "    for y in range(1,11): #10개 column값 채우기\n",
    "        #ws.cell(x,y,value = randint(0,100)) #0~100사이의 랜덤숫자값\n",
    "        ws.cell(x,y,i)\n",
    "        i += 1"
   ]
  },
  {
   "cell_type": "code",
   "execution_count": 51,
   "id": "ef31675b-880b-4aed-9c23-3f0995fa6d76",
   "metadata": {},
   "outputs": [],
   "source": [
    "wb.save(\"Sample.xlsx\")"
   ]
  },
  {
   "cell_type": "code",
   "execution_count": null,
   "id": "1a6034e4-a47a-4ae5-a021-5442c666b3e9",
   "metadata": {},
   "outputs": [],
   "source": []
  }
 ],
 "metadata": {
  "kernelspec": {
   "display_name": "Python 3 (ipykernel)",
   "language": "python",
   "name": "python3"
  },
  "language_info": {
   "codemirror_mode": {
    "name": "ipython",
    "version": 3
   },
   "file_extension": ".py",
   "mimetype": "text/x-python",
   "name": "python",
   "nbconvert_exporter": "python",
   "pygments_lexer": "ipython3",
   "version": "3.9.7"
  }
 },
 "nbformat": 4,
 "nbformat_minor": 5
}
