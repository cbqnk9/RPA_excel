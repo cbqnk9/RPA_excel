{
 "cells": [
  {
   "cell_type": "code",
   "execution_count": 2,
   "id": "e43667b7-584c-4a76-a489-598cd5d5564d",
   "metadata": {},
   "outputs": [],
   "source": [
    "from openpyxl import Workbook\n",
    "\n",
    "wb = Workbook() # 새 워크북(엑셀) 생성 -> 저장 된 상태 X\n",
    "ws = wb.active #현재 활성화된 sheet 가져옴\n",
    "\n",
    "ws.title = \"test\" #sheet의 이름을 변경\n",
    "\n",
    "wb.save(\"sample.xlsx\") # sheet이름이 test이며 파일명이 sample인 xlsx파일 저장\n",
    "\n",
    "wb.close() #끝나면 닫아줘야함"
   ]
  },
  {
   "cell_type": "raw",
   "id": "c6d109bc-6515-44f9-9056-bf8ac9c3ca30",
   "metadata": {},
   "source": []
  }
 ],
 "metadata": {
  "kernelspec": {
   "display_name": "Python 3 (ipykernel)",
   "language": "python",
   "name": "python3"
  },
  "language_info": {
   "codemirror_mode": {
    "name": "ipython",
    "version": 3
   },
   "file_extension": ".py",
   "mimetype": "text/x-python",
   "name": "python",
   "nbconvert_exporter": "python",
   "pygments_lexer": "ipython3",
   "version": "3.9.7"
  }
 },
 "nbformat": 4,
 "nbformat_minor": 5
}
