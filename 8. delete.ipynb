{
 "cells": [
  {
   "cell_type": "code",
   "execution_count": 9,
   "id": "ad684fe0-c768-436c-8c45-4da30ac6a5c4",
   "metadata": {},
   "outputs": [],
   "source": [
    "from openpyxl import load_workbook\n",
    "wb = load_workbook(\"sample.xlsx\")\n",
    "ws = wb.active"
   ]
  },
  {
   "cell_type": "code",
   "execution_count": 6,
   "id": "222370ce-60ea-4331-80f6-3bfcfeeb812c",
   "metadata": {},
   "outputs": [],
   "source": [
    "ws.delete_rows(8) #8번째 행 삭제\n",
    "ws.delete_rows(8,2) #8번째부터 2행 삭제"
   ]
  },
  {
   "cell_type": "code",
   "execution_count": 8,
   "id": "4f75b411-db69-409d-8320-a2b2c273e2a6",
   "metadata": {},
   "outputs": [],
   "source": [
    "wb.save(\"del_rows.xlsx\")"
   ]
  },
  {
   "cell_type": "code",
   "execution_count": 10,
   "id": "2521db10-8dda-423c-87ae-3c57bfeeb0e6",
   "metadata": {},
   "outputs": [],
   "source": [
    "ws.delete_cols(2) #2번째 열 삭제 (B열 삭제)\n",
    "ws.delete_cols(2,2) #2번째부터 2열 삭제 (B,C열 삭제)"
   ]
  },
  {
   "cell_type": "code",
   "execution_count": 11,
   "id": "87e7c3d8-226f-438d-b0f0-6bfd7f1c9415",
   "metadata": {},
   "outputs": [],
   "source": [
    "wb.save(\"del_cols.xlsx\")"
   ]
  },
  {
   "cell_type": "code",
   "execution_count": null,
   "id": "345bc41c-3641-4b85-9836-d2c35eb1b417",
   "metadata": {},
   "outputs": [],
   "source": []
  }
 ],
 "metadata": {
  "kernelspec": {
   "display_name": "Python 3 (ipykernel)",
   "language": "python",
   "name": "python3"
  },
  "language_info": {
   "codemirror_mode": {
    "name": "ipython",
    "version": 3
   },
   "file_extension": ".py",
   "mimetype": "text/x-python",
   "name": "python",
   "nbconvert_exporter": "python",
   "pygments_lexer": "ipython3",
   "version": "3.9.7"
  }
 },
 "nbformat": 4,
 "nbformat_minor": 5
}
